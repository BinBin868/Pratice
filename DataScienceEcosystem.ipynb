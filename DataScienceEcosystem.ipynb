{
 "cells": [
  {
   "cell_type": "markdown",
   "id": "5a59da5f-6828-44c6-a767-e14f122742c2",
   "metadata": {},
   "source": [
    " Data Science Tools and Ecosystem"
   ]
  },
  {
   "cell_type": "markdown",
   "id": "213eaa06-92e4-4181-af4a-2092f257343c",
   "metadata": {
    "scrolled": true
   },
   "source": [
    "In this notebook, Data Science Tools and Ecosystem are sumarized. "
   ]
  },
  {
   "cell_type": "markdown",
   "id": "d7f6dfe9-76bf-4ba4-9f8f-42ec513484df",
   "metadata": {},
   "source": [
    "**Objective:**\n",
    "- List popular languages for Data Science\n",
    "- Introduce open-source development tools for Data Science\n",
    "- Demonstrate how to evaluate arithmetic expressions in Python\n",
    "- Convert units (e.g., minutes to hours)\n",
    "- Create tables and lists in Jupyter Notebook using Markdown\n",
    "  "
   ]
  },
  {
   "cell_type": "markdown",
   "id": "71811712-7bfd-4c77-af4c-d8380fc7600c",
   "metadata": {},
   "source": [
    "Some of popular languages that Data Scientists use are:"
   ]
  },
  {
   "cell_type": "markdown",
   "id": "8bd2d798-4712-4f3f-b5d7-661998d1602c",
   "metadata": {},
   "source": [
    "1. Python "
   ]
  },
  {
   "cell_type": "markdown",
   "id": "757b9c90-dda9-47a3-9f3d-3e5d9dcbd86a",
   "metadata": {},
   "source": [
    "2. R"
   ]
  },
  {
   "cell_type": "markdown",
   "id": "0e173f11-596c-4ba1-9d77-346e00ffe122",
   "metadata": {},
   "source": [
    "3. SQL"
   ]
  },
  {
   "cell_type": "markdown",
   "id": "06f71163-5aa3-4e0e-94df-4f2838d00ad6",
   "metadata": {},
   "source": [
    "Some of commonly used libraries used by Data Scientists include: "
   ]
  },
  {
   "cell_type": "markdown",
   "id": "21069f03-624d-47ca-8f98-11846fae1620",
   "metadata": {},
   "source": [
    "1. Pandas\n",
    "2. Scikit- learn\n",
    "3. Matplotlib"
   ]
  },
  {
   "cell_type": "markdown",
   "id": "80dac278-749f-48cb-9397-ffda98456c34",
   "metadata": {},
   "source": [
    "| **Data Science Tools**   |\n",
    "|--------------------------|\n",
    "| Jupyter Notebooks        |\n",
    "| RStudio                  |\n",
    "| Apache Zeppelin          |\n"
   ]
  },
  {
   "cell_type": "markdown",
   "id": "e2270f8a-063d-4769-b86a-b34aa61235da",
   "metadata": {},
   "source": [
    "### Below are a few examples of evaluating arithmetic expressions in Python\n",
    "\n",
    "1. **Addition**: `2 + 3 = 5`\n",
    "2. **Subtraction**: `7 - 4 = 3`\n",
    "3. **Multiplication**: `6 * 8 = 48`\n",
    "4. **Division**: `10 / 2 = 5`\n",
    "5. **Exponentiation**: `2 ** 3 = 8`\n",
    "6. **Modulus**: `9 % 4 = 1`\n",
    "7. **Floor Division**: `10 // 3 = 3`\n"
   ]
  },
  {
   "cell_type": "markdown",
   "id": "48f7f1c8-0fcd-4061-9f8b-7a5d3566b009",
   "metadata": {},
   "source": [
    "This a simple arithmetic expression to mutiply then add integers."
   ]
  },
  {
   "cell_type": "code",
   "execution_count": 6,
   "id": "fbf1774c-b5f4-41e8-a7bc-80926e76bcb2",
   "metadata": {},
   "outputs": [
    {
     "data": {
      "text/plain": [
       "17"
      ]
     },
     "execution_count": 6,
     "metadata": {},
     "output_type": "execute_result"
    }
   ],
   "source": [
    "(3*4)+5"
   ]
  },
  {
   "cell_type": "code",
   "execution_count": 7,
   "id": "a3f0b301-f172-4db2-b5f5-3f1ec56d2c1b",
   "metadata": {},
   "outputs": [
    {
     "data": {
      "text/plain": [
       "3.3333333333333335"
      ]
     },
     "execution_count": 7,
     "metadata": {},
     "output_type": "execute_result"
    }
   ],
   "source": [
    "# This will convert 200 minutes to hours by diving by 60 \n",
    "minutes = 200\n",
    "hours = minutes / 60\n",
    "hours"
   ]
  },
  {
   "cell_type": "markdown",
   "id": "194ed384-f4a4-4737-b2c2-097a03fbeff9",
   "metadata": {},
   "source": [
    "## Author\n",
    "BinBin868"
   ]
  },
  {
   "cell_type": "code",
   "execution_count": null,
   "id": "92ca65d2-cbd9-4792-9b11-8aa8fb0fef33",
   "metadata": {},
   "outputs": [],
   "source": []
  },
  {
   "cell_type": "code",
   "execution_count": null,
   "id": "6d87a528-e719-40c4-a764-29639d6cc0ba",
   "metadata": {},
   "outputs": [],
   "source": []
  },
  {
   "cell_type": "code",
   "execution_count": null,
   "id": "ac1b7277-5804-46c9-a26e-81ce4495aa6b",
   "metadata": {},
   "outputs": [],
   "source": []
  },
  {
   "cell_type": "code",
   "execution_count": null,
   "id": "464d8755-a81e-41ae-824b-cb47c7543dfe",
   "metadata": {},
   "outputs": [],
   "source": []
  },
  {
   "cell_type": "code",
   "execution_count": null,
   "id": "2785d623-a6c6-48f0-817c-af918ec507fc",
   "metadata": {},
   "outputs": [],
   "source": []
  }
 ],
 "metadata": {
  "kernelspec": {
   "display_name": "Python 3 (mrQuoc)",
   "language": "python",
   "name": "mrquoc"
  },
  "language_info": {
   "codemirror_mode": {
    "name": "ipython",
    "version": 3
   },
   "file_extension": ".py",
   "mimetype": "text/x-python",
   "name": "python",
   "nbconvert_exporter": "python",
   "pygments_lexer": "ipython3",
   "version": "3.12.5"
  }
 },
 "nbformat": 4,
 "nbformat_minor": 5
}
